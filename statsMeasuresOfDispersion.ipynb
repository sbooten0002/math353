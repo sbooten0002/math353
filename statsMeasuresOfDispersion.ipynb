{
 "cells": [
  {
   "cell_type": "code",
   "execution_count": 2,
   "metadata": {},
   "outputs": [],
   "source": [
    "import pandas as pd\n",
    "import numpy as np\n",
    "import matplotlib.pyplot as plt\n",
    "import math"
   ]
  },
  {
   "cell_type": "markdown",
   "metadata": {},
   "source": [
    "### Mean"
   ]
  },
  {
   "cell_type": "code",
   "execution_count": 3,
   "metadata": {},
   "outputs": [
    {
     "name": "stdout",
     "output_type": "stream",
     "text": [
      "Mean: 8.5\n"
     ]
    }
   ],
   "source": [
    "data = [5,10,9,11,9,7]\n",
    "\n",
    "# Step 1: Summ all the numbers in the list\n",
    "total_sum = sum(data)\n",
    "\n",
    "# Step 2: Divide the sum by the number of elements in the list\n",
    "mean = total_sum / len(data)\n",
    "\n",
    "print(\"Mean:\", mean)"
   ]
  },
  {
   "cell_type": "markdown",
   "metadata": {},
   "source": [
    "### Range"
   ]
  },
  {
   "cell_type": "code",
   "execution_count": 4,
   "metadata": {},
   "outputs": [
    {
     "name": "stdout",
     "output_type": "stream",
     "text": [
      "Max: 11\n",
      "Min: 5\n",
      "Range: 6\n"
     ]
    }
   ],
   "source": [
    "# Step 1: find the maximum value in the list \n",
    "max_value = max(data)\n",
    "print(\"Max:\", max_value)\n",
    "\n",
    "# Step 2: find the minimum value in the list\n",
    "min_value = min(data)\n",
    "print(\"Min:\", min_value)\n",
    "\n",
    "#Step 3: Calculate the range\n",
    "range = max_value - min_value\n",
    "print(\"Range:\", range)"
   ]
  },
  {
   "cell_type": "markdown",
   "metadata": {},
   "source": [
    "### Mean Absolute Deviation and the % total deviation"
   ]
  },
  {
   "cell_type": "code",
   "execution_count": 5,
   "metadata": {},
   "outputs": [
    {
     "name": "stdout",
     "output_type": "stream",
     "text": [
      "Mean Absolute Deviation: 1.67\n",
      "MAD for each data point: ['3.5', '1.5', '0.5', '2.5', '0.5', '1.5']\n",
      "Percent of each data point's deviation relative to the total deviation: ['35%', '15%', '5%', '25%', '5%', '15%']\n"
     ]
    }
   ],
   "source": [
    "\n",
    "# Step 2: Calculate the absolute deviations from the mean\n",
    "absolute_deviations = []\n",
    "for x in data:\n",
    "    absolute_deviation = abs(x - mean)\n",
    "    absolute_deviations.append(absolute_deviation)\n",
    "\n",
    "# or calculate the absolute deviations using the following:\n",
    "# absolute_deviations = [abs(x - mean) for x in data]\n",
    "\n",
    "# Step 3: Calculate the mean of the absolute deviations\n",
    "mad = sum(absolute_deviations) / len(absolute_deviations)\n",
    "\n",
    "# Format the MAD to three significant figures\n",
    "mad_formatted = f\"{mad:.3g}\"\n",
    "\n",
    "# Create a list of MAD for each data point\n",
    "mad_list = [f\"{abs(x - mean):.3g}\" for x in data]\n",
    "\n",
    "# Step 4: Calculate the total deviation\n",
    "total_deviation = sum(absolute_deviations)\n",
    "\n",
    "# Step 5: Calculate the percentage of each data point's absolute deviation relative to the toal deviation\n",
    "percent_deviations = [(abs_dev / total_deviation) * 100 for abs_dev in absolute_deviations]\n",
    "\n",
    "# Format the percentage deviations to three significant figures and add the \"%\" sign\n",
    "percent_deviations_formatted = [f\"{percent:.3g}%\" for percent in percent_deviations]\n",
    "\n",
    "print(\"Mean Absolute Deviation:\", mad_formatted)\n",
    "print(\"MAD for each data point:\", mad_list)\n",
    "print(\"Percent of each data point's deviation relative to the total deviation:\", percent_deviations_formatted)"
   ]
  },
  {
   "cell_type": "markdown",
   "metadata": {},
   "source": [
    "### Variance-Population "
   ]
  },
  {
   "cell_type": "code",
   "execution_count": 6,
   "metadata": {},
   "outputs": [
    {
     "name": "stdout",
     "output_type": "stream",
     "text": [
      "Population Variance: 3.92\n"
     ]
    }
   ],
   "source": [
    "\n",
    "# Step 1: Calculate the squared deviations from the mean\n",
    "squared_deviations = [(x - mean) ** 2 for x in data]\n",
    "\n",
    "# Step 2: Calculate the population variance\n",
    "population_variance = sum(squared_deviations) / len(data)\n",
    "\n",
    "\n",
    "print(\"Population Variance:\", f\"{population_variance:.3g}\")"
   ]
  },
  {
   "cell_type": "markdown",
   "metadata": {},
   "source": [
    "Variance-Sample"
   ]
  },
  {
   "cell_type": "code",
   "execution_count": 7,
   "metadata": {},
   "outputs": [
    {
     "name": "stdout",
     "output_type": "stream",
     "text": [
      "Sample Variance: 4.7\n"
     ]
    }
   ],
   "source": [
    "\n",
    "\n",
    "# Step 1: Calculate the squared deviations from the mean\n",
    "squared_deviations = [(x - mean) ** 2 for x in data]\n",
    "\n",
    "# Step 2: Calculate the sample variance\n",
    "sample_variance = sum(squared_deviations) / (len(data) - 1)\n",
    "\n",
    "print(\"Sample Variance:\", f\"{sample_variance:.3g}\")"
   ]
  },
  {
   "cell_type": "markdown",
   "metadata": {},
   "source": [
    "### Standard Deviation- Poupulation and Sample "
   ]
  },
  {
   "cell_type": "code",
   "execution_count": 8,
   "metadata": {},
   "outputs": [
    {
     "name": "stdout",
     "output_type": "stream",
     "text": [
      "Population Standard Deviation: 1.98\n",
      "Sample Standard Deviation: 2.17\n"
     ]
    }
   ],
   "source": [
    "\n",
    "\n",
    "# Step 1: Calculate the squared deviations from the mean\n",
    "squared_deviations = [(x - mean) ** 2 for x in data]\n",
    "\n",
    "# Step 2: Calculate the population variance\n",
    "population_variance = sum(squared_deviations) / len(data)\n",
    "\n",
    "# Step 3: Calculate the sample variance\n",
    "sample_variance = sum(squared_deviations) / (len(data) - 1)\n",
    "\n",
    "# Step 4: Calculate the population standard deviation\n",
    "population_std_dev = math.sqrt(population_variance)\n",
    "\n",
    "# Step 5: Calculate the sample standard deviation\n",
    "sample_std_dev = math.sqrt(sample_variance)\n",
    "\n",
    "print(\"Population Standard Deviation:\", f\"{population_std_dev:.3g}\")\n",
    "print(\"Sample Standard Deviation:\", f\"{sample_std_dev:.3g}\")"
   ]
  },
  {
   "cell_type": "markdown",
   "metadata": {},
   "source": [
    "### Empirical Rule"
   ]
  },
  {
   "cell_type": "code",
   "execution_count": 9,
   "metadata": {},
   "outputs": [
    {
     "name": "stdout",
     "output_type": "stream",
     "text": [
      "Mean: 8.5\n",
      "Sample Standard Deviation: 2.17\n",
      "68% of data falls within: (6.33205166113212, 10.66794833886788)\n",
      "95% of data falls within: (4.16410332226424, 12.83589667773576)\n",
      "99.7% of data falls within: (1.9961549833963605, 15.00384501660364)\n"
     ]
    }
   ],
   "source": [
    "\n",
    "\n",
    "# Step 1: Calculate the mean\n",
    "mean = sum(data) / len(data)\n",
    "\n",
    "# Step 2: Calculate the squared deviations from the mean\n",
    "squared_deviations = [(x - mean) ** 2 for x in data]\n",
    "\n",
    "# Step 3: Calculate the sample variance\n",
    "sample_variance = sum(squared_deviations) / (len(data) - 1)\n",
    "\n",
    "# Step 4: Calculate the sample standard deviation\n",
    "sample_std_dev = math.sqrt(sample_variance)\n",
    "\n",
    "# Step 5: Calculate the intervals for the Empirical Rule\n",
    "one_std_dev = (mean - sample_std_dev, mean + sample_std_dev)\n",
    "two_std_dev = (mean - 2 * sample_std_dev, mean + 2 * sample_std_dev)\n",
    "three_std_dev = (mean - 3 * sample_std_dev, mean + 3 * sample_std_dev)\n",
    "\n",
    "print(\"Mean:\", f\"{mean:.3g}\")\n",
    "print(\"Sample Standard Deviation:\", f\"{sample_std_dev:.3g}\")\n",
    "print(\"68% of data falls within:\", one_std_dev)\n",
    "print(\"95% of data falls within:\", two_std_dev)\n",
    "print(\"99.7% of data falls within:\", three_std_dev)"
   ]
  },
  {
   "cell_type": "markdown",
   "metadata": {},
   "source": [
    "### Chebyshev's Theorem "
   ]
  },
  {
   "cell_type": "code",
   "execution_count": 10,
   "metadata": {},
   "outputs": [
    {
     "name": "stdout",
     "output_type": "stream",
     "text": [
      "Mean: 8.5\n",
      "Sample Standard Deviation: 2.17\n",
      "At least 0.0% of data falls within 1 standard deviations: (6.33205166113212, 10.66794833886788)\n",
      "At least 75.0% of data falls within 2 standard deviations: (4.16410332226424, 12.83589667773576)\n",
      "At least 88.9% of data falls within 3 standard deviations: (1.9961549833963605, 15.00384501660364)\n"
     ]
    }
   ],
   "source": [
    "\n",
    "mean = sum(data) / len(data)\n",
    "\n",
    "# Step 2: Calculate the squared deviations from the mean\n",
    "squared_deviations = [(x - mean) ** 2 for x in data]\n",
    "\n",
    "# Step 3: Calculate the sample variance\n",
    "sample_variance = sum(squared_deviations) / (len(data) - 1)\n",
    "\n",
    "# Step 4: Calculate the sample standard deviation\n",
    "sample_std_dev = math.sqrt(sample_variance)\n",
    "\n",
    "# Function to calculate Chebyshev intervals\n",
    "def chebyshev_interval(k):\n",
    "    lower_bound = mean - k * sample_std_dev\n",
    "    upper_bound = mean + k * sample_std_dev\n",
    "    return (lower_bound, upper_bound)\n",
    "\n",
    "# Example: Calculate intervals for k = 1, 2, and 3\n",
    "k_values = [1, 2, 3]\n",
    "chebyshev_intervals = {k: chebyshev_interval(k) for k in k_values}\n",
    "\n",
    "# Calculate the minimum proportion of data within k standard deviations\n",
    "chebyshev_proportions = {k: 1 - 1 / (k ** 2) for k in k_values}\n",
    "\n",
    "print(\"Mean:\", f\"{mean:.3g}\")\n",
    "print(\"Sample Standard Deviation:\", f\"{sample_std_dev:.3g}\")\n",
    "for k in k_values:\n",
    "    print(f\"At least {chebyshev_proportions[k]*100:.1f}% of data falls within {k} standard deviations: {chebyshev_intervals[k]}\")"
   ]
  },
  {
   "cell_type": "markdown",
   "metadata": {},
   "source": [
    "### Coefficient of Variation"
   ]
  },
  {
   "cell_type": "code",
   "execution_count": 12,
   "metadata": {},
   "outputs": [
    {
     "name": "stdout",
     "output_type": "stream",
     "text": [
      "Mean: 8.5\n",
      "Sample Standard Deviation: 2.17\n",
      "Coefficient of Variation (CV): 25.5%\n"
     ]
    }
   ],
   "source": [
    "import math\n",
    "\n",
    "data = [5, 10, 9, 11, 9, 7]\n",
    "\n",
    "# Step 1: Calculate the mean\n",
    "mean = sum(data) / len(data)\n",
    "\n",
    "# Step 2: Calculate the squared deviations from the mean\n",
    "squared_deviations = [(x - mean) ** 2 for x in data]\n",
    "\n",
    "# Step 3: Calculate the sample variance\n",
    "sample_variance = sum(squared_deviations) / (len(data) - 1)\n",
    "\n",
    "# Step 4: Calculate the sample standard deviation\n",
    "sample_std_dev = math.sqrt(sample_variance)\n",
    "\n",
    "# Step 5: Calculate the Coefficient of Variation (CV)\n",
    "cv = (sample_std_dev / mean) * 100\n",
    "\n",
    "print(\"Mean:\", f\"{mean:.3g}\")\n",
    "print(\"Sample Standard Deviation:\", f\"{sample_std_dev:.3g}\")\n",
    "print(\"Coefficient of Variation (CV):\", f\"{cv:.3g}%\")"
   ]
  },
  {
   "cell_type": "code",
   "execution_count": null,
   "metadata": {},
   "outputs": [],
   "source": []
  },
  {
   "cell_type": "code",
   "execution_count": null,
   "metadata": {},
   "outputs": [],
   "source": []
  }
 ],
 "metadata": {
  "kernelspec": {
   "display_name": "Python 3",
   "language": "python",
   "name": "python3"
  },
  "language_info": {
   "codemirror_mode": {
    "name": "ipython",
    "version": 3
   },
   "file_extension": ".py",
   "mimetype": "text/x-python",
   "name": "python",
   "nbconvert_exporter": "python",
   "pygments_lexer": "ipython3",
   "version": "3.10.4"
  }
 },
 "nbformat": 4,
 "nbformat_minor": 2
}
