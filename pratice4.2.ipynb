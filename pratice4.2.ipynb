{
 "cells": [
  {
   "cell_type": "code",
   "execution_count": 12,
   "metadata": {},
   "outputs": [],
   "source": [
    "import pandas as pd\n",
    "import numpy as np\n",
    "import matplotlib.pyplot as plt\n",
    "import math"
   ]
  },
  {
   "cell_type": "code",
   "execution_count": 13,
   "metadata": {},
   "outputs": [
    {
     "name": "stdout",
     "output_type": "stream",
     "text": [
      " 97.9\n",
      " 98.7\n",
      " 96.4\n",
      " 96.8\n",
      " 96.9\n",
      " 97.9\n",
      " 97.3\n",
      " 98.9\n",
      " 99.3\n",
      " 97.8\n",
      " 97.0\n",
      " 96.6\n",
      " 97.9\n",
      " 98.6\n",
      " 98.6\n",
      " 96.4\n",
      " 98.5\n",
      " 98.3\n",
      " 96.7\n",
      " 99.0\n"
     ]
    }
   ],
   "source": [
    "# Read CSV file\n",
    "df = pd.read_csv('4.2Notes.csv')\n",
    "\n",
    "# Print the data and remove the index column that is on display on the left by deualt\n",
    "print(df.to_string(index=False))"
   ]
  },
  {
   "cell_type": "markdown",
   "metadata": {},
   "source": [
    "### Calculate the standard deviation"
   ]
  },
  {
   "cell_type": "code",
   "execution_count": 14,
   "metadata": {},
   "outputs": [
    {
     "name": "stdout",
     "output_type": "stream",
     "text": [
      "97.9    0.971855\n",
      "dtype: float64\n"
     ]
    }
   ],
   "source": [
    "# Sample Standard Deviation\n",
    "std_deviationSample = df.std()\n",
    "print(std_deviationSample)"
   ]
  },
  {
   "cell_type": "markdown",
   "metadata": {},
   "source": [
    "### Calculate the Population Standard Deviation\n",
    "- ddof is a parameter in the std method in pandas.\n",
    "- ddof stands for \"Delta Degrees of Freedom\" and it is used to specify the divisor used in the calculation of the std. \n",
    "- when ddof = 0, the divisor used is N.\n",
    "- N is the number of elements. \n",
    "- when ddof=1, the divisor used is N-1. "
   ]
  },
  {
   "cell_type": "code",
   "execution_count": 15,
   "metadata": {},
   "outputs": [
    {
     "name": "stdout",
     "output_type": "stream",
     "text": [
      "97.9    0.945935\n",
      "dtype: float64\n"
     ]
    }
   ],
   "source": [
    "# Population Standard Deviation\n",
    "std_deviationPopulation = df.std(ddof=0)\n",
    "print(std_deviationPopulation)"
   ]
  },
  {
   "cell_type": "code",
   "execution_count": null,
   "metadata": {},
   "outputs": [],
   "source": [
    "import pandas as pd\n",
    "import math\n",
    "\n",
    "# Sample data\n",
    "data = {'values': [5, 10, 9, 11, 9, 7]}\n",
    "df = pd.DataFrame(data)\n",
    "\n",
    "# Extract the values\n",
    "values = df['values']\n",
    "\n",
    "# Step 1: Calculate the mean\n",
    "mean = values.mean()\n",
    "\n",
    "# Step 2: Calculate the squared deviations from the mean\n",
    "squared_deviations = [(x - mean) ** 2 for x in values]\n",
    "\n",
    "# Step 3: Calculate the population variance\n",
    "population_variance = sum(squared_deviations) / len(values)\n",
    "\n",
    "# Step 4: Calculate the sample variance\n",
    "sample_variance = sum(squared_deviations) / (len(values) - 1)\n",
    "\n",
    "# Step 5: Calculate the population standard deviation\n",
    "population_std_dev = math.sqrt(population_variance)\n",
    "\n",
    "# Step 6: Calculate the sample standard deviation\n",
    "sample_std_dev = math.sqrt(sample_variance)\n",
    "\n",
    "print(\"Mean:\", mean)\n",
    "print(\"Population Variance:\", population_variance)\n",
    "print(\"Sample Variance:\", sample_variance)\n",
    "print(\"Population Standard Deviation:\", population_std_dev)\n",
    "print(\"Sample Standard Deviation:\", sample_std_dev)"
   ]
  }
 ],
 "metadata": {
  "kernelspec": {
   "display_name": "Python 3",
   "language": "python",
   "name": "python3"
  },
  "language_info": {
   "codemirror_mode": {
    "name": "ipython",
    "version": 3
   },
   "file_extension": ".py",
   "mimetype": "text/x-python",
   "name": "python",
   "nbconvert_exporter": "python",
   "pygments_lexer": "ipython3",
   "version": "3.10.4"
  }
 },
 "nbformat": 4,
 "nbformat_minor": 2
}
